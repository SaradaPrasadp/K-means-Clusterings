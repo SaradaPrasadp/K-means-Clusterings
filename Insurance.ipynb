{
 "cells": [
  {
   "cell_type": "code",
   "execution_count": 1,
   "metadata": {},
   "outputs": [],
   "source": [
    "                                                     #Insurance"
   ]
  },
  {
   "cell_type": "code",
   "execution_count": 3,
   "metadata": {},
   "outputs": [],
   "source": [
    "import pandas as pd\n",
    "import numpy as np\n",
    "import matplotlib.pylab as plt\n",
    "\n",
    "from sklearn.cluster import\tKMeans"
   ]
  },
  {
   "cell_type": "code",
   "execution_count": 4,
   "metadata": {},
   "outputs": [
    {
     "name": "stdout",
     "output_type": "stream",
     "text": [
      "       Premiums Paid         Age  Days to Renew   Claims made         Income\n",
      "count     100.000000  100.000000     100.000000    100.000000     100.000000\n",
      "mean    12542.250000   46.110000     120.400000  12578.993367  102250.000000\n",
      "std      6790.731666   13.887641      88.055767  13695.906762   43517.237964\n",
      "min      2800.000000   23.000000       1.000000   1978.260870   28000.000000\n",
      "25%      6975.000000   34.000000      56.000000   5220.648735   65125.000000\n",
      "50%     11825.000000   45.000000      89.000000   8386.043907  102250.000000\n",
      "75%     15475.000000   54.500000     186.500000  14670.889520  139375.000000\n",
      "max     29900.000000   82.000000     321.000000  99676.744190  176500.000000\n",
      "<class 'pandas.core.frame.DataFrame'>\n",
      "RangeIndex: 100 entries, 0 to 99\n",
      "Data columns (total 5 columns):\n",
      " #   Column         Non-Null Count  Dtype  \n",
      "---  ------         --------------  -----  \n",
      " 0   Premiums Paid  100 non-null    int64  \n",
      " 1   Age            100 non-null    int64  \n",
      " 2   Days to Renew  100 non-null    int64  \n",
      " 3   Claims made    100 non-null    float64\n",
      " 4   Income         100 non-null    int64  \n",
      "dtypes: float64(1), int64(4)\n",
      "memory usage: 4.0 KB\n"
     ]
    }
   ],
   "source": [
    "ir = pd.read_csv(\"Insurance Dataset.csv\")\n",
    "\n",
    "print(ir.describe())         #shows the summary.\n",
    "ir.info()                    #Shows the information along with null values."
   ]
  },
  {
   "cell_type": "code",
   "execution_count": 5,
   "metadata": {},
   "outputs": [
    {
     "data": {
      "text/html": [
       "<div>\n",
       "<style scoped>\n",
       "    .dataframe tbody tr th:only-of-type {\n",
       "        vertical-align: middle;\n",
       "    }\n",
       "\n",
       "    .dataframe tbody tr th {\n",
       "        vertical-align: top;\n",
       "    }\n",
       "\n",
       "    .dataframe thead th {\n",
       "        text-align: right;\n",
       "    }\n",
       "</style>\n",
       "<table border=\"1\" class=\"dataframe\">\n",
       "  <thead>\n",
       "    <tr style=\"text-align: right;\">\n",
       "      <th></th>\n",
       "      <th>Premiums Paid</th>\n",
       "      <th>Age</th>\n",
       "      <th>Days to Renew</th>\n",
       "      <th>Claims made</th>\n",
       "      <th>Income</th>\n",
       "    </tr>\n",
       "  </thead>\n",
       "  <tbody>\n",
       "    <tr>\n",
       "      <th>count</th>\n",
       "      <td>100.000000</td>\n",
       "      <td>100.000000</td>\n",
       "      <td>100.000000</td>\n",
       "      <td>100.000000</td>\n",
       "      <td>100.000000</td>\n",
       "    </tr>\n",
       "    <tr>\n",
       "      <th>mean</th>\n",
       "      <td>1.434639</td>\n",
       "      <td>1.664070</td>\n",
       "      <td>1.355959</td>\n",
       "      <td>0.774007</td>\n",
       "      <td>1.706220</td>\n",
       "    </tr>\n",
       "    <tr>\n",
       "      <th>std</th>\n",
       "      <td>1.000000</td>\n",
       "      <td>1.000000</td>\n",
       "      <td>1.000000</td>\n",
       "      <td>1.000000</td>\n",
       "      <td>1.000000</td>\n",
       "    </tr>\n",
       "    <tr>\n",
       "      <th>min</th>\n",
       "      <td>0.000000</td>\n",
       "      <td>0.000000</td>\n",
       "      <td>0.000000</td>\n",
       "      <td>0.000000</td>\n",
       "      <td>0.000000</td>\n",
       "    </tr>\n",
       "    <tr>\n",
       "      <th>25%</th>\n",
       "      <td>0.614809</td>\n",
       "      <td>0.792071</td>\n",
       "      <td>0.624604</td>\n",
       "      <td>0.236741</td>\n",
       "      <td>0.853110</td>\n",
       "    </tr>\n",
       "    <tr>\n",
       "      <th>50%</th>\n",
       "      <td>1.329017</td>\n",
       "      <td>1.584142</td>\n",
       "      <td>0.999367</td>\n",
       "      <td>0.467861</td>\n",
       "      <td>1.706220</td>\n",
       "    </tr>\n",
       "    <tr>\n",
       "      <th>75%</th>\n",
       "      <td>1.866515</td>\n",
       "      <td>2.268204</td>\n",
       "      <td>2.106620</td>\n",
       "      <td>0.926746</td>\n",
       "      <td>2.559331</td>\n",
       "    </tr>\n",
       "    <tr>\n",
       "      <th>max</th>\n",
       "      <td>3.990733</td>\n",
       "      <td>4.248382</td>\n",
       "      <td>3.634061</td>\n",
       "      <td>7.133407</td>\n",
       "      <td>3.412441</td>\n",
       "    </tr>\n",
       "  </tbody>\n",
       "</table>\n",
       "</div>"
      ],
      "text/plain": [
       "       Premiums Paid         Age  Days to Renew  Claims made      Income\n",
       "count     100.000000  100.000000     100.000000   100.000000  100.000000\n",
       "mean        1.434639    1.664070       1.355959     0.774007    1.706220\n",
       "std         1.000000    1.000000       1.000000     1.000000    1.000000\n",
       "min         0.000000    0.000000       0.000000     0.000000    0.000000\n",
       "25%         0.614809    0.792071       0.624604     0.236741    0.853110\n",
       "50%         1.329017    1.584142       0.999367     0.467861    1.706220\n",
       "75%         1.866515    2.268204       2.106620     0.926746    2.559331\n",
       "max         3.990733    4.248382       3.634061     7.133407    3.412441"
      ]
     },
     "execution_count": 5,
     "metadata": {},
     "output_type": "execute_result"
    }
   ],
   "source": [
    "#now we have to standardize the data.\n",
    "\n",
    "def std_fn(x):\n",
    "    y=(x-x.min())/(x.std())\n",
    "    return (y)\n",
    "\n",
    "ir_std = std_fn(ir.iloc[ : , 0:])\n",
    "ir_std.describe()"
   ]
  },
  {
   "cell_type": "code",
   "execution_count": 22,
   "metadata": {},
   "outputs": [
    {
     "data": {
      "text/plain": [
       "[495.0000000000001,\n",
       " 313.9598382488576,\n",
       " 246.8452392400786,\n",
       " 198.16790701960366,\n",
       " 155.78498869450766,\n",
       " 129.35395225346497]"
      ]
     },
     "execution_count": 22,
     "metadata": {},
     "output_type": "execute_result"
    }
   ],
   "source": [
    "###### scree plot or elbow curve ############\n",
    "TWSS = []\n",
    "k = list(range(1,7))\n",
    "\n",
    "for i in k:\n",
    "    kmeans = KMeans(n_clusters = i)\n",
    "    kmeans.fit(ir_std)\n",
    "    TWSS.append(kmeans.inertia_)\n",
    "    \n",
    "TWSS"
   ]
  },
  {
   "cell_type": "code",
   "execution_count": 23,
   "metadata": {},
   "outputs": [
    {
     "data": {
      "text/plain": [
       "Text(0, 0.5, 'total_within_SS')"
      ]
     },
     "execution_count": 23,
     "metadata": {},
     "output_type": "execute_result"
    },
    {
     "data": {
      "image/png": "[encoded data removed]",
      "text/plain": [
       "<Figure size 432x288 with 1 Axes>"
      ]
     },
     "metadata": {
      "needs_background": "light"
     },
     "output_type": "display_data"
    }
   ],
   "source": [
    "# Scree plot \n",
    "plt.plot(k, TWSS, 'ro-');plt.xlabel(\"No_of_Clusters\");plt.ylabel(\"total_within_SS\")"
   ]
  },
  {
   "cell_type": "code",
   "execution_count": 44,
   "metadata": {},
   "outputs": [
    {
     "data": {
      "text/plain": [
       "array([0, 0, 0, 0, 0, 0, 0, 0, 0, 0, 0, 0, 0, 0, 0, 0, 0, 0, 0, 0, 0, 0,\n",
       "       0, 0, 0, 0, 0, 0, 0, 0, 0, 0, 0, 0, 0, 2, 0, 0, 0, 0, 1, 0, 0, 0,\n",
       "       0, 1, 0, 0, 0, 0, 0, 1, 1, 1, 1, 1, 1, 1, 1, 1, 1, 1, 1, 1, 1, 1,\n",
       "       1, 1, 2, 1, 1, 2, 1, 1, 1, 1, 1, 1, 1, 1, 2, 2, 1, 2, 2, 2, 2, 2,\n",
       "       2, 1, 1, 1, 1, 1, 1, 2, 2, 2, 2, 2])"
      ]
     },
     "execution_count": 44,
     "metadata": {},
     "output_type": "execute_result"
    }
   ],
   "source": [
    "\n",
    "# Selecting 5 clusters from the above scree plot which is the optimum number of clusters \n",
    "model = KMeans(n_clusters = 3)\n",
    "model.fit(ir_std)\n",
    "\n",
    "model.labels_ # getting the labels of clusters assigned to each row "
   ]
  },
  {
   "cell_type": "code",
   "execution_count": 45,
   "metadata": {},
   "outputs": [
    {
     "name": "stdout",
     "output_type": "stream",
     "text": [
      "<class 'pandas.core.frame.DataFrame'>\n",
      "RangeIndex: 100 entries, 0 to 99\n",
      "Data columns (total 6 columns):\n",
      " #   Column         Non-Null Count  Dtype  \n",
      "---  ------         --------------  -----  \n",
      " 0   Premiums Paid  100 non-null    int64  \n",
      " 1   Age            100 non-null    int64  \n",
      " 2   Days to Renew  100 non-null    int64  \n",
      " 3   Claims made    100 non-null    float64\n",
      " 4   Income         100 non-null    int64  \n",
      " 5   category       100 non-null    int32  \n",
      "dtypes: float64(1), int32(1), int64(4)\n",
      "memory usage: 4.4 KB\n"
     ]
    }
   ],
   "source": [
    "mb = pd.Series(model.labels_)  # converting numpy array into pandas series object  \n",
    "ir['category'] = mb # creating a  new column and assigning it to new column \n",
    "ir.info()"
   ]
  },
  {
   "cell_type": "code",
   "execution_count": 46,
   "metadata": {},
   "outputs": [
    {
     "data": {
      "text/html": [
       "<div>\n",
       "<style scoped>\n",
       "    .dataframe tbody tr th:only-of-type {\n",
       "        vertical-align: middle;\n",
       "    }\n",
       "\n",
       "    .dataframe tbody tr th {\n",
       "        vertical-align: top;\n",
       "    }\n",
       "\n",
       "    .dataframe thead th {\n",
       "        text-align: right;\n",
       "    }\n",
       "</style>\n",
       "<table border=\"1\" class=\"dataframe\">\n",
       "  <thead>\n",
       "    <tr style=\"text-align: right;\">\n",
       "      <th></th>\n",
       "      <th>category</th>\n",
       "      <th>Premiums Paid</th>\n",
       "      <th>Age</th>\n",
       "      <th>Days to Renew</th>\n",
       "      <th>Claims made</th>\n",
       "      <th>Income</th>\n",
       "    </tr>\n",
       "  </thead>\n",
       "  <tbody>\n",
       "    <tr>\n",
       "      <th>0</th>\n",
       "      <td>0</td>\n",
       "      <td>2800</td>\n",
       "      <td>26</td>\n",
       "      <td>233</td>\n",
       "      <td>3890.076336</td>\n",
       "      <td>28000</td>\n",
       "    </tr>\n",
       "    <tr>\n",
       "      <th>1</th>\n",
       "      <td>0</td>\n",
       "      <td>2950</td>\n",
       "      <td>27</td>\n",
       "      <td>130</td>\n",
       "      <td>2294.444444</td>\n",
       "      <td>29500</td>\n",
       "    </tr>\n",
       "    <tr>\n",
       "      <th>2</th>\n",
       "      <td>0</td>\n",
       "      <td>3100</td>\n",
       "      <td>28</td>\n",
       "      <td>144</td>\n",
       "      <td>2564.545455</td>\n",
       "      <td>31000</td>\n",
       "    </tr>\n",
       "    <tr>\n",
       "      <th>3</th>\n",
       "      <td>0</td>\n",
       "      <td>3250</td>\n",
       "      <td>30</td>\n",
       "      <td>65</td>\n",
       "      <td>1978.260870</td>\n",
       "      <td>32500</td>\n",
       "    </tr>\n",
       "    <tr>\n",
       "      <th>4</th>\n",
       "      <td>0</td>\n",
       "      <td>3400</td>\n",
       "      <td>32</td>\n",
       "      <td>56</td>\n",
       "      <td>2009.090909</td>\n",
       "      <td>34000</td>\n",
       "    </tr>\n",
       "    <tr>\n",
       "      <th>...</th>\n",
       "      <td>...</td>\n",
       "      <td>...</td>\n",
       "      <td>...</td>\n",
       "      <td>...</td>\n",
       "      <td>...</td>\n",
       "      <td>...</td>\n",
       "    </tr>\n",
       "    <tr>\n",
       "      <th>95</th>\n",
       "      <td>2</td>\n",
       "      <td>25575</td>\n",
       "      <td>63</td>\n",
       "      <td>76</td>\n",
       "      <td>16161.979170</td>\n",
       "      <td>170500</td>\n",
       "    </tr>\n",
       "    <tr>\n",
       "      <th>96</th>\n",
       "      <td>2</td>\n",
       "      <td>25800</td>\n",
       "      <td>62</td>\n",
       "      <td>166</td>\n",
       "      <td>23715.151520</td>\n",
       "      <td>172000</td>\n",
       "    </tr>\n",
       "    <tr>\n",
       "      <th>97</th>\n",
       "      <td>2</td>\n",
       "      <td>26025</td>\n",
       "      <td>59</td>\n",
       "      <td>167</td>\n",
       "      <td>24043.401020</td>\n",
       "      <td>173500</td>\n",
       "    </tr>\n",
       "    <tr>\n",
       "      <th>98</th>\n",
       "      <td>2</td>\n",
       "      <td>26250</td>\n",
       "      <td>58</td>\n",
       "      <td>245</td>\n",
       "      <td>40147.058820</td>\n",
       "      <td>175000</td>\n",
       "    </tr>\n",
       "    <tr>\n",
       "      <th>99</th>\n",
       "      <td>2</td>\n",
       "      <td>26475</td>\n",
       "      <td>52</td>\n",
       "      <td>261</td>\n",
       "      <td>46781.067960</td>\n",
       "      <td>176500</td>\n",
       "    </tr>\n",
       "  </tbody>\n",
       "</table>\n",
       "<p>100 rows × 6 columns</p>\n",
       "</div>"
      ],
      "text/plain": [
       "    category  Premiums Paid  Age  Days to Renew   Claims made  Income\n",
       "0          0           2800   26            233   3890.076336   28000\n",
       "1          0           2950   27            130   2294.444444   29500\n",
       "2          0           3100   28            144   2564.545455   31000\n",
       "3          0           3250   30             65   1978.260870   32500\n",
       "4          0           3400   32             56   2009.090909   34000\n",
       "..       ...            ...  ...            ...           ...     ...\n",
       "95         2          25575   63             76  16161.979170  170500\n",
       "96         2          25800   62            166  23715.151520  172000\n",
       "97         2          26025   59            167  24043.401020  173500\n",
       "98         2          26250   58            245  40147.058820  175000\n",
       "99         2          26475   52            261  46781.067960  176500\n",
       "\n",
       "[100 rows x 6 columns]"
      ]
     },
     "execution_count": 46,
     "metadata": {},
     "output_type": "execute_result"
    }
   ],
   "source": [
    "ir_final = ir.iloc[:,[5,0,1,2,3,4]]\n",
    "ir_final"
   ]
  },
  {
   "cell_type": "code",
   "execution_count": 47,
   "metadata": {},
   "outputs": [
    {
     "data": {
      "text/html": [
       "<div>\n",
       "<style scoped>\n",
       "    .dataframe tbody tr th:only-of-type {\n",
       "        vertical-align: middle;\n",
       "    }\n",
       "\n",
       "    .dataframe tbody tr th {\n",
       "        vertical-align: top;\n",
       "    }\n",
       "\n",
       "    .dataframe thead th {\n",
       "        text-align: right;\n",
       "    }\n",
       "</style>\n",
       "<table border=\"1\" class=\"dataframe\">\n",
       "  <thead>\n",
       "    <tr style=\"text-align: right;\">\n",
       "      <th></th>\n",
       "      <th>Premiums Paid</th>\n",
       "      <th>Age</th>\n",
       "      <th>Days to Renew</th>\n",
       "      <th>Claims made</th>\n",
       "      <th>Income</th>\n",
       "      <th>category</th>\n",
       "    </tr>\n",
       "    <tr>\n",
       "      <th>category</th>\n",
       "      <th></th>\n",
       "      <th></th>\n",
       "      <th></th>\n",
       "      <th></th>\n",
       "      <th></th>\n",
       "      <th></th>\n",
       "    </tr>\n",
       "  </thead>\n",
       "  <tbody>\n",
       "    <tr>\n",
       "      <th>0</th>\n",
       "      <td>7271.354167</td>\n",
       "      <td>41.208333</td>\n",
       "      <td>124.020833</td>\n",
       "      <td>6900.428086</td>\n",
       "      <td>64093.750000</td>\n",
       "      <td>0</td>\n",
       "    </tr>\n",
       "    <tr>\n",
       "      <th>1</th>\n",
       "      <td>14931.944444</td>\n",
       "      <td>46.500000</td>\n",
       "      <td>76.305556</td>\n",
       "      <td>9982.880874</td>\n",
       "      <td>130583.333333</td>\n",
       "      <td>1</td>\n",
       "    </tr>\n",
       "    <tr>\n",
       "      <th>2</th>\n",
       "      <td>22978.125000</td>\n",
       "      <td>59.937500</td>\n",
       "      <td>208.750000</td>\n",
       "      <td>35455.942319</td>\n",
       "      <td>152968.750000</td>\n",
       "      <td>2</td>\n",
       "    </tr>\n",
       "  </tbody>\n",
       "</table>\n",
       "</div>"
      ],
      "text/plain": [
       "          Premiums Paid        Age  Days to Renew   Claims made  \\\n",
       "category                                                          \n",
       "0           7271.354167  41.208333     124.020833   6900.428086   \n",
       "1          14931.944444  46.500000      76.305556   9982.880874   \n",
       "2          22978.125000  59.937500     208.750000  35455.942319   \n",
       "\n",
       "                 Income  category  \n",
       "category                           \n",
       "0          64093.750000         0  \n",
       "1         130583.333333         1  \n",
       "2         152968.750000         2  "
      ]
     },
     "execution_count": 47,
     "metadata": {},
     "output_type": "execute_result"
    }
   ],
   "source": [
    "ir.iloc[:,0: ].groupby(ir.category).mean()"
   ]
  }
 ],
 "metadata": {
  "kernelspec": {
   "display_name": "Python 3",
   "language": "python",
   "name": "python3"
  },
  "language_info": {
   "codemirror_mode": {
    "name": "ipython",
    "version": 3
   },
   "file_extension": ".py",
   "mimetype": "text/x-python",
   "name": "python",
   "nbconvert_exporter": "python",
   "pygments_lexer": "ipython3",
   "version": "3.8.5"
  }
 },
 "nbformat": 4,
 "nbformat_minor": 4
}
